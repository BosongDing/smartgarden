{
 "cells": [
  {
   "cell_type": "code",
   "execution_count": null,
   "id": "7c1d13f5",
   "metadata": {
    "vscode": {
     "languageId": "plaintext"
    }
   },
   "outputs": [],
   "source": [
    "# STEP 1：克隆你的项目\n",
    "!git clone https://github.com/YOUR_USERNAME/my_project.git\n",
    "%cd my_project\n",
    "\n",
    "# STEP 2：导入主逻辑（main.py 会调用你下面写的函数）\n",
    "from main import run_pipeline"
   ]
  },
  {
   "cell_type": "code",
   "execution_count": null,
   "id": "5b5c1d95",
   "metadata": {
    "vscode": {
     "languageId": "plaintext"
    }
   },
   "outputs": [],
   "source": [
    "!git clone https://github.com/<ORG>/smart_garden_assignment.git\n",
    "%cd smart_garden_assignment\n",
    "!pip install -r requirements.txt  # ⇐ kept short on purpose\n",
    "from run_simulation import register_student_functions, main as _main\n",
    "\n",
    "\n",
    "def should_water(state: dict) -> bool:\n",
    "    # TODO\n",
    "    return False\n",
    "\n",
    "def should_fertilize(state: dict) -> bool:\n",
    "    # TODO\n",
    "    return False\n",
    "\n"
   ]
  }
 ],
 "metadata": {
  "language_info": {
   "name": "python"
  }
 },
 "nbformat": 4,
 "nbformat_minor": 5
}
